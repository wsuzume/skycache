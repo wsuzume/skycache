{
 "cells": [
  {
   "cell_type": "code",
   "execution_count": 65,
   "id": "5432956c-777f-40b4-9a17-0fe2e6c2fb94",
   "metadata": {},
   "outputs": [
    {
     "name": "stdout",
     "output_type": "stream",
     "text": [
      "The autoreload extension is already loaded. To reload it, use:\n",
      "  %reload_ext autoreload\n"
     ]
    }
   ],
   "source": [
    "%load_ext autoreload"
   ]
  },
  {
   "cell_type": "code",
   "execution_count": 120,
   "id": "3cc7c323-a5f5-4390-9bef-ff88fe13cb5a",
   "metadata": {},
   "outputs": [],
   "source": [
    "import sys\n",
    "\n",
    "if '../' not in sys.path:\n",
    "    sys.path.append('../')"
   ]
  },
  {
   "cell_type": "code",
   "execution_count": 121,
   "id": "fac8df2f-cc99-4f02-9dca-f4b03cf864f4",
   "metadata": {},
   "outputs": [],
   "source": [
    "%autoreload\n",
    "from skycache.checkpoint import Input, CheckPoint\n",
    "from skycache.workflow import Workflow"
   ]
  },
  {
   "cell_type": "code",
   "execution_count": 135,
   "id": "c072afac-4646-4c4f-9e95-df0091ca21e3",
   "metadata": {},
   "outputs": [],
   "source": [
    "%autoreload\n",
    "from skycache.randname import get_random_name_original"
   ]
  },
  {
   "cell_type": "code",
   "execution_count": 136,
   "id": "600cfffc-2f62-4d85-9085-fa178ac1b93a",
   "metadata": {},
   "outputs": [
    {
     "data": {
      "text/plain": [
       "'romantic_tu'"
      ]
     },
     "execution_count": 136,
     "metadata": {},
     "output_type": "execute_result"
    }
   ],
   "source": [
    "get_random_name_original()"
   ]
  },
  {
   "cell_type": "code",
   "execution_count": 122,
   "id": "31fd1d77-1c0e-45be-9c36-b86a4c116a31",
   "metadata": {},
   "outputs": [],
   "source": [
    "def load_a(path):\n",
    "    return path"
   ]
  },
  {
   "cell_type": "code",
   "execution_count": 123,
   "id": "062ee209-55b3-48e1-9954-cd2621be41ba",
   "metadata": {},
   "outputs": [],
   "source": [
    "wf = Workflow('./')"
   ]
  },
  {
   "cell_type": "code",
   "execution_count": 124,
   "id": "1b3696bf-163d-40f6-ae83-152da670450a",
   "metadata": {},
   "outputs": [
    {
     "data": {
      "text/plain": [
       "Workflow(7266a1b3-71ed-4301-a63f-92e62e6332ac)"
      ]
     },
     "execution_count": 124,
     "metadata": {},
     "output_type": "execute_result"
    }
   ],
   "source": [
    "wf"
   ]
  },
  {
   "cell_type": "code",
   "execution_count": 125,
   "id": "c98087bd-30a9-42c8-9230-b712786c3855",
   "metadata": {},
   "outputs": [],
   "source": [
    "wf['a'] = Input(load_a, './data/raw/a.txt')\n",
    "wf['b'] = Input(load_a, './data/raw/b.txt')\n",
    "wf['c'] = Input(load_a, './data/raw/c.txt')\n",
    "\n",
    "wf['ab'] = wf.use('a', 'b').checkpoint()"
   ]
  },
  {
   "cell_type": "code",
   "execution_count": 126,
   "id": "21e8f9a4-4d7e-4c2c-97b1-f1a842d6541b",
   "metadata": {},
   "outputs": [
    {
     "data": {
      "text/plain": [
       "Input(load_a, path='data/raw/a.txt')"
      ]
     },
     "execution_count": 126,
     "metadata": {},
     "output_type": "execute_result"
    }
   ],
   "source": [
    "wf['a']"
   ]
  },
  {
   "cell_type": "code",
   "execution_count": 127,
   "id": "3e55e270-c216-491f-b31b-a7c7e709cdb2",
   "metadata": {},
   "outputs": [
    {
     "data": {
      "text/html": [
       "<div>\n",
       "<style scoped>\n",
       "    .dataframe tbody tr th:only-of-type {\n",
       "        vertical-align: middle;\n",
       "    }\n",
       "\n",
       "    .dataframe tbody tr th {\n",
       "        vertical-align: top;\n",
       "    }\n",
       "\n",
       "    .dataframe thead th {\n",
       "        text-align: right;\n",
       "    }\n",
       "</style>\n",
       "<table border=\"1\" class=\"dataframe\">\n",
       "  <thead>\n",
       "    <tr style=\"text-align: right;\">\n",
       "      <th></th>\n",
       "      <th>a</th>\n",
       "      <th>b</th>\n",
       "      <th>c</th>\n",
       "    </tr>\n",
       "  </thead>\n",
       "  <tbody>\n",
       "    <tr>\n",
       "      <th>8a21308e-ffdd-438e-ab27-abdfadb9c5bc</th>\n",
       "      <td>0cc175b9c0f1b6a831c399e269772661</td>\n",
       "      <td>d41d8cd98f00b204e9800998ecf8427e</td>\n",
       "      <td>d41d8cd98f00b204e9800998ecf8427e</td>\n",
       "    </tr>\n",
       "    <tr>\n",
       "      <th>20af4045-e4a0-4822-b5a9-a00685dcdee3</th>\n",
       "      <td>0cc175b9c0f1b6a831c399e269772661</td>\n",
       "      <td>d41d8cd98f00b204e9800998ecf8427e</td>\n",
       "      <td>d41d8cd98f00b204e9800998ecf8427e</td>\n",
       "    </tr>\n",
       "  </tbody>\n",
       "</table>\n",
       "</div>"
      ],
      "text/plain": [
       "                                                                     a  \\\n",
       "8a21308e-ffdd-438e-ab27-abdfadb9c5bc  0cc175b9c0f1b6a831c399e269772661   \n",
       "20af4045-e4a0-4822-b5a9-a00685dcdee3  0cc175b9c0f1b6a831c399e269772661   \n",
       "\n",
       "                                                                     b  \\\n",
       "8a21308e-ffdd-438e-ab27-abdfadb9c5bc  d41d8cd98f00b204e9800998ecf8427e   \n",
       "20af4045-e4a0-4822-b5a9-a00685dcdee3  d41d8cd98f00b204e9800998ecf8427e   \n",
       "\n",
       "                                                                     c  \n",
       "8a21308e-ffdd-438e-ab27-abdfadb9c5bc  d41d8cd98f00b204e9800998ecf8427e  \n",
       "20af4045-e4a0-4822-b5a9-a00685dcdee3  d41d8cd98f00b204e9800998ecf8427e  "
      ]
     },
     "execution_count": 127,
     "metadata": {},
     "output_type": "execute_result"
    }
   ],
   "source": [
    "wf.database"
   ]
  },
  {
   "cell_type": "code",
   "execution_count": 128,
   "id": "041307bd-780d-4177-9340-c6b270f44c84",
   "metadata": {},
   "outputs": [
    {
     "name": "stdout",
     "output_type": "stream",
     "text": [
      "こんにちは\n",
      "hoge\n",
      "さようなら\n"
     ]
    }
   ],
   "source": [
    "with wf['ab'] as ctx:\n",
    "    print('hoge')"
   ]
  },
  {
   "cell_type": "code",
   "execution_count": 43,
   "id": "71486429-d3d7-40ee-8bf5-3241e0840ce9",
   "metadata": {},
   "outputs": [
    {
     "data": {
      "text/html": [
       "<div>\n",
       "<style scoped>\n",
       "    .dataframe tbody tr th:only-of-type {\n",
       "        vertical-align: middle;\n",
       "    }\n",
       "\n",
       "    .dataframe tbody tr th {\n",
       "        vertical-align: top;\n",
       "    }\n",
       "\n",
       "    .dataframe thead th {\n",
       "        text-align: right;\n",
       "    }\n",
       "</style>\n",
       "<table border=\"1\" class=\"dataframe\">\n",
       "  <thead>\n",
       "    <tr style=\"text-align: right;\">\n",
       "      <th></th>\n",
       "      <th>a</th>\n",
       "      <th>b</th>\n",
       "      <th>c</th>\n",
       "    </tr>\n",
       "  </thead>\n",
       "  <tbody>\n",
       "    <tr>\n",
       "      <th>8a21308e-ffdd-438e-ab27-abdfadb9c5bc</th>\n",
       "      <td>0cc175b9c0f1b6a831c399e269772661</td>\n",
       "      <td>d41d8cd98f00b204e9800998ecf8427e</td>\n",
       "      <td>d41d8cd98f00b204e9800998ecf8427e</td>\n",
       "    </tr>\n",
       "    <tr>\n",
       "      <th>20af4045-e4a0-4822-b5a9-a00685dcdee3</th>\n",
       "      <td>0cc175b9c0f1b6a831c399e269772661</td>\n",
       "      <td>d41d8cd98f00b204e9800998ecf8427e</td>\n",
       "      <td>d41d8cd98f00b204e9800998ecf8427e</td>\n",
       "    </tr>\n",
       "  </tbody>\n",
       "</table>\n",
       "</div>"
      ],
      "text/plain": [
       "                                                                     a  \\\n",
       "8a21308e-ffdd-438e-ab27-abdfadb9c5bc  0cc175b9c0f1b6a831c399e269772661   \n",
       "20af4045-e4a0-4822-b5a9-a00685dcdee3  0cc175b9c0f1b6a831c399e269772661   \n",
       "\n",
       "                                                                     b  \\\n",
       "8a21308e-ffdd-438e-ab27-abdfadb9c5bc  d41d8cd98f00b204e9800998ecf8427e   \n",
       "20af4045-e4a0-4822-b5a9-a00685dcdee3  d41d8cd98f00b204e9800998ecf8427e   \n",
       "\n",
       "                                                                     c  \n",
       "8a21308e-ffdd-438e-ab27-abdfadb9c5bc  d41d8cd98f00b204e9800998ecf8427e  \n",
       "20af4045-e4a0-4822-b5a9-a00685dcdee3  d41d8cd98f00b204e9800998ecf8427e  "
      ]
     },
     "execution_count": 43,
     "metadata": {},
     "output_type": "execute_result"
    }
   ],
   "source": [
    "wf.load_database()"
   ]
  },
  {
   "cell_type": "code",
   "execution_count": 44,
   "id": "c0daa490-6895-4861-8795-1b57f3984ebc",
   "metadata": {},
   "outputs": [
    {
     "data": {
      "text/plain": [
       "Series([], Name: 5ef3d93e-07af-4098-8390-a4554c45cdcf, dtype: object)"
      ]
     },
     "execution_count": 44,
     "metadata": {},
     "output_type": "execute_result"
    }
   ],
   "source": [
    "wf.get_input_hash_record()"
   ]
  },
  {
   "cell_type": "code",
   "execution_count": 45,
   "id": "5d2c274e-e66e-47c6-85e5-1a9f9d5e93f1",
   "metadata": {},
   "outputs": [
    {
     "data": {
      "text/html": [
       "<div>\n",
       "<style scoped>\n",
       "    .dataframe tbody tr th:only-of-type {\n",
       "        vertical-align: middle;\n",
       "    }\n",
       "\n",
       "    .dataframe tbody tr th {\n",
       "        vertical-align: top;\n",
       "    }\n",
       "\n",
       "    .dataframe thead th {\n",
       "        text-align: right;\n",
       "    }\n",
       "</style>\n",
       "<table border=\"1\" class=\"dataframe\">\n",
       "  <thead>\n",
       "    <tr style=\"text-align: right;\">\n",
       "      <th></th>\n",
       "      <th>a</th>\n",
       "      <th>b</th>\n",
       "      <th>c</th>\n",
       "    </tr>\n",
       "  </thead>\n",
       "  <tbody>\n",
       "    <tr>\n",
       "      <th>8a21308e-ffdd-438e-ab27-abdfadb9c5bc</th>\n",
       "      <td>0cc175b9c0f1b6a831c399e269772661</td>\n",
       "      <td>d41d8cd98f00b204e9800998ecf8427e</td>\n",
       "      <td>d41d8cd98f00b204e9800998ecf8427e</td>\n",
       "    </tr>\n",
       "    <tr>\n",
       "      <th>20af4045-e4a0-4822-b5a9-a00685dcdee3</th>\n",
       "      <td>0cc175b9c0f1b6a831c399e269772661</td>\n",
       "      <td>d41d8cd98f00b204e9800998ecf8427e</td>\n",
       "      <td>d41d8cd98f00b204e9800998ecf8427e</td>\n",
       "    </tr>\n",
       "  </tbody>\n",
       "</table>\n",
       "</div>"
      ],
      "text/plain": [
       "                                                                     a  \\\n",
       "8a21308e-ffdd-438e-ab27-abdfadb9c5bc  0cc175b9c0f1b6a831c399e269772661   \n",
       "20af4045-e4a0-4822-b5a9-a00685dcdee3  0cc175b9c0f1b6a831c399e269772661   \n",
       "\n",
       "                                                                     b  \\\n",
       "8a21308e-ffdd-438e-ab27-abdfadb9c5bc  d41d8cd98f00b204e9800998ecf8427e   \n",
       "20af4045-e4a0-4822-b5a9-a00685dcdee3  d41d8cd98f00b204e9800998ecf8427e   \n",
       "\n",
       "                                                                     c  \n",
       "8a21308e-ffdd-438e-ab27-abdfadb9c5bc  d41d8cd98f00b204e9800998ecf8427e  \n",
       "20af4045-e4a0-4822-b5a9-a00685dcdee3  d41d8cd98f00b204e9800998ecf8427e  "
      ]
     },
     "execution_count": 45,
     "metadata": {},
     "output_type": "execute_result"
    }
   ],
   "source": [
    "wf.update_database()"
   ]
  },
  {
   "cell_type": "code",
   "execution_count": 33,
   "id": "60f780e8-77bf-4e9f-860b-ff993990b330",
   "metadata": {},
   "outputs": [],
   "source": [
    "wf.save_database()"
   ]
  },
  {
   "cell_type": "code",
   "execution_count": 34,
   "id": "ec57f12f-5e30-4513-8eb2-5d4721153c91",
   "metadata": {},
   "outputs": [
    {
     "name": "stdout",
     "output_type": "stream",
     "text": [
      "今日はいい天気です\n",
      "こんにちは\n",
      "ハロー\n",
      "さようなら\n"
     ]
    }
   ],
   "source": [
    "with wf.checkpoint().using() as ctx:\n",
    "    print(\"ハロー\")"
   ]
  },
  {
   "cell_type": "code",
   "execution_count": 13,
   "id": "8191ef7c-ad6e-4931-bdce-a33291591799",
   "metadata": {},
   "outputs": [],
   "source": [
    "%autoreload\n",
    "from skycache.utils import get_latest_file"
   ]
  },
  {
   "cell_type": "code",
   "execution_count": 14,
   "id": "9dddcd7e-a2e3-47dd-82f9-a182ef91fb60",
   "metadata": {},
   "outputs": [
    {
     "data": {
      "text/plain": [
       "PosixPath('data/raw')"
      ]
     },
     "execution_count": 14,
     "metadata": {},
     "output_type": "execute_result"
    }
   ],
   "source": [
    "get_latest_file('data')"
   ]
  },
  {
   "cell_type": "code",
   "execution_count": null,
   "id": "ae9c6a71-5f6e-458b-85de-366165284183",
   "metadata": {},
   "outputs": [],
   "source": []
  }
 ],
 "metadata": {
  "kernelspec": {
   "display_name": "Python 3 (ipykernel)",
   "language": "python",
   "name": "python3"
  },
  "language_info": {
   "codemirror_mode": {
    "name": "ipython",
    "version": 3
   },
   "file_extension": ".py",
   "mimetype": "text/x-python",
   "name": "python",
   "nbconvert_exporter": "python",
   "pygments_lexer": "ipython3",
   "version": "3.11.6"
  }
 },
 "nbformat": 4,
 "nbformat_minor": 5
}
